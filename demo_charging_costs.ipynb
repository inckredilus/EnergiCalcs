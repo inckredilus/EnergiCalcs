{
 "cells": [
  {
   "cell_type": "markdown",
   "metadata": {},
   "source": [
    "# Ladda elbil: Dokumentationsexempel\n",
    "\n",
    "Vi testar att använda docstrings och hjälpfunktioner i en Jupyter Notebook.\n",
    "\n",
    "Funktionen `calculate_charging_cost()` är ett exempel."
   ]
  },
  {
   "cell_type": "code",
   "execution_count": null,
   "metadata": {},
   "outputs": [],
   "source": [
    "def calculate_charging_cost(start, end, energy_kwh, price_data):\n",
    "    \"\"\"\n",
    "    Calculates the cost of charging an electric vehicle based on hourly prices.\n",
    "\n",
    "    :param start: Start time of charging (datetime).\n",
    "    :param end: End time of charging (datetime).\n",
    "    :param energy_kwh: Total energy to charge (float, in kWh).\n",
    "    :param price_data: Dictionary with datetime keys and price values (SEK/kWh).\n",
    "    :return: Total cost of the charging session in SEK.\n",
    "    \"\"\"\n",
    "    # Dummy implementation for testing\n",
    "    return energy_kwh * 1.5"
   ]
  },
  {
   "cell_type": "code",
   "execution_count": null,
   "metadata": {},
   "outputs": [],
   "source": [
    "# Visa hjälp via ?\n",
    "calculate_charging_cost?"
   ]
  },
  {
   "cell_type": "code",
   "execution_count": null,
   "metadata": {},
   "outputs": [],
   "source": [
    "# Visa hjälp via help()\n",
    "help(calculate_charging_cost)"
   ]
  },
  {
   "cell_type": "code",
   "execution_count": null,
   "metadata": {},
   "outputs": [],
   "source": [
    "# Exempel på körning av funktionen\n",
    "from datetime import datetime\n",
    "\n",
    "start = datetime(2025, 4, 4, 18)\n",
    "end = datetime(2025, 4, 4, 20)\n",
    "energy = 10  # kWh\n",
    "prices = {}  # Här skulle timpriser ligga\n",
    "\n",
    "calculate_charging_cost(start, end, energy, prices)"
   ]
  }
 ],
 "metadata": {
  "kernelspec": {
   "display_name": "Python 3",
   "language": "python",
   "name": "python3"
  },
  "language_info": {
   "name": "python",
   "version": "3.13.2"
  }
 },
 "nbformat": 4,
 "nbformat_minor": 2
}
